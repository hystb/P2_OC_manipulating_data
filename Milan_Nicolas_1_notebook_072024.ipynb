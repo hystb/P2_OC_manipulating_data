{
 "cells": [
  {
   "cell_type": "code",
   "execution_count": 11,
   "id": "322471a3-4487-4a33-9f77-e60da7b62695",
   "metadata": {},
   "outputs": [
    {
     "data": {
      "text/plain": [
       "('./fr.openfoodfacts.org.products.csv.zip',\n",
       " <http.client.HTTPMessage at 0x27600b35b50>)"
      ]
     },
     "execution_count": 11,
     "metadata": {},
     "output_type": "execute_result"
    }
   ],
   "source": [
    "import pandas as pd\n",
    "import urllib.request\n",
    "import zipfile\n",
    "\n",
    "url = \"https://s3-eu-west-1.amazonaws.com/static.oc-static.com/prod/courses/files/parcours-data-scientist/P2/fr.openfoodfacts.org.products.csv.zip\"\n",
    "urllib.request.urlretrieve(url, \"./fr.openfoodfacts.org.products.csv.zip\")"
   ]
  },
  {
   "cell_type": "code",
   "execution_count": 12,
   "id": "17ca70ed",
   "metadata": {},
   "outputs": [],
   "source": [
    "with zipfile.ZipFile(\"./fr.openfoodfacts.org.products.csv.zip\", 'r') as zip_ref:\n",
    "    with zip_ref.open('fr.openfoodfacts.org.products.csv') as file:\n",
    "        data = pd.read_csv(file, sep=\"\\t\", low_memory=False)"
   ]
  },
  {
   "cell_type": "code",
   "execution_count": 13,
   "id": "603d5572-7e0e-4b35-92bc-756ee76a72f4",
   "metadata": {},
   "outputs": [
    {
     "name": "stdout",
     "output_type": "stream",
     "text": [
      "['code', 'url', 'creator', 'created_t', 'created_datetime', 'last_modified_t', 'last_modified_datetime', 'product_name', 'generic_name', 'quantity', 'packaging', 'packaging_tags', 'brands', 'brands_tags', 'categories', 'categories_tags', 'categories_fr', 'origins', 'origins_tags', 'manufacturing_places', 'manufacturing_places_tags', 'labels', 'labels_tags', 'labels_fr', 'emb_codes', 'emb_codes_tags', 'first_packaging_code_geo', 'cities', 'cities_tags', 'purchase_places', 'stores', 'countries', 'countries_tags', 'countries_fr', 'ingredients_text', 'allergens', 'allergens_fr', 'traces', 'traces_tags', 'traces_fr', 'serving_size', 'no_nutriments', 'additives_n', 'additives', 'additives_tags', 'additives_fr', 'ingredients_from_palm_oil_n', 'ingredients_from_palm_oil', 'ingredients_from_palm_oil_tags', 'ingredients_that_may_be_from_palm_oil_n', 'ingredients_that_may_be_from_palm_oil', 'ingredients_that_may_be_from_palm_oil_tags', 'nutrition_grade_uk', 'nutrition_grade_fr', 'pnns_groups_1', 'pnns_groups_2', 'states', 'states_tags', 'states_fr', 'main_category', 'main_category_fr', 'image_url', 'image_small_url', 'energy_100g', 'energy-from-fat_100g', 'fat_100g', 'saturated-fat_100g', 'butyric-acid_100g', 'caproic-acid_100g', 'caprylic-acid_100g', 'capric-acid_100g', 'lauric-acid_100g', 'myristic-acid_100g', 'palmitic-acid_100g', 'stearic-acid_100g', 'arachidic-acid_100g', 'behenic-acid_100g', 'lignoceric-acid_100g', 'cerotic-acid_100g', 'montanic-acid_100g', 'melissic-acid_100g', 'monounsaturated-fat_100g', 'polyunsaturated-fat_100g', 'omega-3-fat_100g', 'alpha-linolenic-acid_100g', 'eicosapentaenoic-acid_100g', 'docosahexaenoic-acid_100g', 'omega-6-fat_100g', 'linoleic-acid_100g', 'arachidonic-acid_100g', 'gamma-linolenic-acid_100g', 'dihomo-gamma-linolenic-acid_100g', 'omega-9-fat_100g', 'oleic-acid_100g', 'elaidic-acid_100g', 'gondoic-acid_100g', 'mead-acid_100g', 'erucic-acid_100g', 'nervonic-acid_100g', 'trans-fat_100g', 'cholesterol_100g', 'carbohydrates_100g', 'sugars_100g', 'sucrose_100g', 'glucose_100g', 'fructose_100g', 'lactose_100g', 'maltose_100g', 'maltodextrins_100g', 'starch_100g', 'polyols_100g', 'fiber_100g', 'proteins_100g', 'casein_100g', 'serum-proteins_100g', 'nucleotides_100g', 'salt_100g', 'sodium_100g', 'alcohol_100g', 'vitamin-a_100g', 'beta-carotene_100g', 'vitamin-d_100g', 'vitamin-e_100g', 'vitamin-k_100g', 'vitamin-c_100g', 'vitamin-b1_100g', 'vitamin-b2_100g', 'vitamin-pp_100g', 'vitamin-b6_100g', 'vitamin-b9_100g', 'folates_100g', 'vitamin-b12_100g', 'biotin_100g', 'pantothenic-acid_100g', 'silica_100g', 'bicarbonate_100g', 'potassium_100g', 'chloride_100g', 'calcium_100g', 'phosphorus_100g', 'iron_100g', 'magnesium_100g', 'zinc_100g', 'copper_100g', 'manganese_100g', 'fluoride_100g', 'selenium_100g', 'chromium_100g', 'molybdenum_100g', 'iodine_100g', 'caffeine_100g', 'taurine_100g', 'ph_100g', 'fruits-vegetables-nuts_100g', 'collagen-meat-protein-ratio_100g', 'cocoa_100g', 'chlorophyl_100g', 'carbon-footprint_100g', 'nutrition-score-fr_100g', 'nutrition-score-uk_100g', 'glycemic-index_100g', 'water-hardness_100g']\n"
     ]
    }
   ],
   "source": [
    "varList = data.columns.tolist()\n",
    "sizeData = data.shape[0]\n",
    "print(varList)"
   ]
  },
  {
   "cell_type": "code",
   "execution_count": 14,
   "id": "3dfd3a4a-a43b-42ef-8e23-8313b8fe351a",
   "metadata": {},
   "outputs": [
    {
     "name": "stdout",
     "output_type": "stream",
     "text": [
      "63\n"
     ]
    }
   ],
   "source": [
    "startNut = varList.index(\"energy_100g\")\n",
    "print(startNut)"
   ]
  },
  {
   "cell_type": "code",
   "execution_count": 15,
   "id": "43693599-cf5a-4363-83af-eb2b67f70ba0",
   "metadata": {},
   "outputs": [
    {
     "name": "stdout",
     "output_type": "stream",
     "text": [
      "No exact duplicated\n",
      "No possible duplicated with subset : ['code', 'url']\n",
      "Possible duplicated with subset ['product_name', 'creator', 'quantity'] :1939\n",
      "Possible duplicated with subset ['product_name', 'creator', 'quantity', 'generic_name', 'countries_tags', 'ingredients_text'] :77\n"
     ]
    }
   ],
   "source": [
    "size = data[data.duplicated()].shape[0]\n",
    "if size == 0:\n",
    "    print(\"No exact duplicated\")\n",
    "else:\n",
    "    print(f\"exact duplicated :{size}\")\n",
    "    #print(data.duplicated().iloc[:, :41])\n",
    "subset = ['code', 'url']\n",
    "size = size_subset = data.dropna(subset=subset).duplicated(subset=subset).sum()\n",
    "if size == 0:\n",
    "    print(f\"No possible duplicated with subset : {subset}\")\n",
    "else:\n",
    "    print(f\"exact duplicated with subset {subset} :{size}\")\n",
    "    #print(data.dropna(subset=subset)[data.dropna(subset=subset).duplicated(subset=subset)].iloc[:, :41])\n",
    "subset = ['product_name', 'creator', 'quantity']\n",
    "size = size_subset = data.dropna(subset=subset).duplicated(subset=subset).sum()\n",
    "if size == 0:\n",
    "    print(f\"No possible duplicated with subset : {subset}\")\n",
    "else:\n",
    "    print(f\"Possible duplicated with subset {subset} :{size}\")\n",
    "    #print(data.dropna(subset=subset)[data.dropna(subset=subset).duplicated(subset=subset)].iloc[:, :41])\n",
    "subset = ['product_name', 'creator', 'quantity', 'generic_name', 'countries_tags', 'ingredients_text']\n",
    "size = size_subset = data.dropna(subset=subset).duplicated(subset=subset).sum()\n",
    "if size == 0:\n",
    "    print(f\"No possible duplicated with subset : {subset}\")\n",
    "else:\n",
    "    print(f\"Possible duplicated with subset {subset} :{size}\")\n",
    "    #print(data.dropna(subset=subset)[data.dropna(subset=subset).duplicated(subset=subset)].iloc[:, :41])\n"
   ]
  },
  {
   "cell_type": "code",
   "execution_count": 18,
   "id": "8cfdaa67-70cd-449f-9db7-698f74f34141",
   "metadata": {},
   "outputs": [
    {
     "name": "stdout",
     "output_type": "stream",
     "text": [
      "320772\n",
      "generic_name                                  0.835413\n",
      "quantity                                      0.673229\n",
      "packaging                                     0.753844\n",
      "packaging_tags                                0.753841\n",
      "categories                                    0.736854\n",
      "categories_tags                               0.736919\n",
      "categories_fr                                 0.736850\n",
      "origins                                       0.930823\n",
      "origins_tags                                  0.930938\n",
      "manufacturing_places                          0.886209\n",
      "manufacturing_places_tags                     0.886228\n",
      "labels                                        0.854853\n",
      "labels_tags                                   0.854588\n",
      "labels_fr                                     0.854520\n",
      "emb_codes                                     0.908639\n",
      "emb_codes_tags                                0.908649\n",
      "first_packaging_code_geo                      0.941382\n",
      "cities                                        0.999928\n",
      "cities_tags                                   0.936653\n",
      "purchase_places                               0.818585\n",
      "stores                                        0.838758\n",
      "allergens                                     0.911638\n",
      "allergens_fr                                  0.999941\n",
      "traces                                        0.924080\n",
      "traces_tags                                   0.924155\n",
      "traces_fr                                     0.924083\n",
      "no_nutriments                                 1.000000\n",
      "additives_tags                                0.517788\n",
      "additives_fr                                  0.517788\n",
      "ingredients_from_palm_oil                     1.000000\n",
      "ingredients_from_palm_oil_tags                0.984927\n",
      "ingredients_that_may_be_from_palm_oil         1.000000\n",
      "ingredients_that_may_be_from_palm_oil_tags    0.963538\n",
      "nutrition_grade_uk                            1.000000\n",
      "pnns_groups_1                                 0.714710\n",
      "pnns_groups_2                                 0.705426\n",
      "main_category                                 0.736991\n",
      "main_category_fr                              0.736991\n",
      "image_url                                     0.763583\n",
      "image_small_url                               0.763583\n",
      "dtype: float64\n"
     ]
    }
   ],
   "source": [
    "print(sizeData)\n",
    "missingRate = data.iloc[:, :startNut].isnull().sum()/sizeData\n",
    "print(missingRate[missingRate >= 0.5])"
   ]
  },
  {
   "cell_type": "code",
   "execution_count": null,
   "id": "b113f495-3198-4d73-b7e0-618f0162d134",
   "metadata": {},
   "outputs": [],
   "source": []
  }
 ],
 "metadata": {
  "kernelspec": {
   "display_name": "Python 3 (ipykernel)",
   "language": "python",
   "name": "python3"
  },
  "language_info": {
   "codemirror_mode": {
    "name": "ipython",
    "version": 3
   },
   "file_extension": ".py",
   "mimetype": "text/x-python",
   "name": "python",
   "nbconvert_exporter": "python",
   "pygments_lexer": "ipython3",
   "version": "3.12.4"
  }
 },
 "nbformat": 4,
 "nbformat_minor": 5
}
