{
 "cells": [
  {
   "cell_type": "code",
   "execution_count": 2,
   "id": "322471a3-4487-4a33-9f77-e60da7b62695",
   "metadata": {},
   "outputs": [
    {
     "data": {
      "text/plain": [
       "('./fr.openfoodfacts.org.products.csv.zip',\n",
       " <http.client.HTTPMessage at 0x18661bf4320>)"
      ]
     },
     "execution_count": 2,
     "metadata": {},
     "output_type": "execute_result"
    }
   ],
   "source": [
    "import pandas as pd\n",
    "import urllib.request\n",
    "import zipfile\n",
    "import matplotlib.pyplot as plt\n",
    "import seaborn as sns\n",
    "\n",
    "url = \"https://s3-eu-west-1.amazonaws.com/static.oc-static.com/prod/courses/files/parcours-data-scientist/P2/fr.openfoodfacts.org.products.csv.zip\"\n",
    "urllib.request.urlretrieve(url, \"./fr.openfoodfacts.org.products.csv.zip\")"
   ]
  },
  {
   "cell_type": "code",
   "execution_count": 3,
   "id": "17ca70ed",
   "metadata": {},
   "outputs": [],
   "source": [
    "with zipfile.ZipFile(\"./fr.openfoodfacts.org.products.csv.zip\", 'r') as zip_ref:\n",
    "    with zip_ref.open('fr.openfoodfacts.org.products.csv') as file:\n",
    "        data = pd.read_csv(file, sep=\"\\t\", low_memory=False)"
   ]
  },
  {
   "cell_type": "code",
   "execution_count": 4,
   "id": "603d5572-7e0e-4b35-92bc-756ee76a72f4",
   "metadata": {},
   "outputs": [
    {
     "name": "stdout",
     "output_type": "stream",
     "text": [
      "['code', 'url', 'creator', 'created_t', 'created_datetime', 'last_modified_t', 'last_modified_datetime', 'product_name', 'generic_name', 'quantity', 'packaging', 'packaging_tags', 'brands', 'brands_tags', 'categories', 'categories_tags', 'categories_fr', 'origins', 'origins_tags', 'manufacturing_places', 'manufacturing_places_tags', 'labels', 'labels_tags', 'labels_fr', 'emb_codes', 'emb_codes_tags', 'first_packaging_code_geo', 'cities', 'cities_tags', 'purchase_places', 'stores', 'countries', 'countries_tags', 'countries_fr', 'ingredients_text', 'allergens', 'allergens_fr', 'traces', 'traces_tags', 'traces_fr', 'serving_size', 'no_nutriments', 'additives_n', 'additives', 'additives_tags', 'additives_fr', 'ingredients_from_palm_oil_n', 'ingredients_from_palm_oil', 'ingredients_from_palm_oil_tags', 'ingredients_that_may_be_from_palm_oil_n', 'ingredients_that_may_be_from_palm_oil', 'ingredients_that_may_be_from_palm_oil_tags', 'nutrition_grade_uk', 'nutrition_grade_fr', 'pnns_groups_1', 'pnns_groups_2', 'states', 'states_tags', 'states_fr', 'main_category', 'main_category_fr', 'image_url', 'image_small_url', 'energy_100g', 'energy-from-fat_100g', 'fat_100g', 'saturated-fat_100g', 'butyric-acid_100g', 'caproic-acid_100g', 'caprylic-acid_100g', 'capric-acid_100g', 'lauric-acid_100g', 'myristic-acid_100g', 'palmitic-acid_100g', 'stearic-acid_100g', 'arachidic-acid_100g', 'behenic-acid_100g', 'lignoceric-acid_100g', 'cerotic-acid_100g', 'montanic-acid_100g', 'melissic-acid_100g', 'monounsaturated-fat_100g', 'polyunsaturated-fat_100g', 'omega-3-fat_100g', 'alpha-linolenic-acid_100g', 'eicosapentaenoic-acid_100g', 'docosahexaenoic-acid_100g', 'omega-6-fat_100g', 'linoleic-acid_100g', 'arachidonic-acid_100g', 'gamma-linolenic-acid_100g', 'dihomo-gamma-linolenic-acid_100g', 'omega-9-fat_100g', 'oleic-acid_100g', 'elaidic-acid_100g', 'gondoic-acid_100g', 'mead-acid_100g', 'erucic-acid_100g', 'nervonic-acid_100g', 'trans-fat_100g', 'cholesterol_100g', 'carbohydrates_100g', 'sugars_100g', 'sucrose_100g', 'glucose_100g', 'fructose_100g', 'lactose_100g', 'maltose_100g', 'maltodextrins_100g', 'starch_100g', 'polyols_100g', 'fiber_100g', 'proteins_100g', 'casein_100g', 'serum-proteins_100g', 'nucleotides_100g', 'salt_100g', 'sodium_100g', 'alcohol_100g', 'vitamin-a_100g', 'beta-carotene_100g', 'vitamin-d_100g', 'vitamin-e_100g', 'vitamin-k_100g', 'vitamin-c_100g', 'vitamin-b1_100g', 'vitamin-b2_100g', 'vitamin-pp_100g', 'vitamin-b6_100g', 'vitamin-b9_100g', 'folates_100g', 'vitamin-b12_100g', 'biotin_100g', 'pantothenic-acid_100g', 'silica_100g', 'bicarbonate_100g', 'potassium_100g', 'chloride_100g', 'calcium_100g', 'phosphorus_100g', 'iron_100g', 'magnesium_100g', 'zinc_100g', 'copper_100g', 'manganese_100g', 'fluoride_100g', 'selenium_100g', 'chromium_100g', 'molybdenum_100g', 'iodine_100g', 'caffeine_100g', 'taurine_100g', 'ph_100g', 'fruits-vegetables-nuts_100g', 'collagen-meat-protein-ratio_100g', 'cocoa_100g', 'chlorophyl_100g', 'carbon-footprint_100g', 'nutrition-score-fr_100g', 'nutrition-score-uk_100g', 'glycemic-index_100g', 'water-hardness_100g']\n"
     ]
    }
   ],
   "source": [
    "varList = data.columns.tolist()\n",
    "sizeData = data.shape[0]\n",
    "print(varList)"
   ]
  },
  {
   "cell_type": "code",
   "execution_count": 5,
   "id": "3dfd3a4a-a43b-42ef-8e23-8313b8fe351a",
   "metadata": {},
   "outputs": [
    {
     "name": "stdout",
     "output_type": "stream",
     "text": [
      "63\n"
     ]
    }
   ],
   "source": [
    "startNut = varList.index(\"energy_100g\")\n",
    "print(startNut)"
   ]
  },
  {
   "cell_type": "code",
   "execution_count": 6,
   "id": "43693599-cf5a-4363-83af-eb2b67f70ba0",
   "metadata": {},
   "outputs": [
    {
     "name": "stdout",
     "output_type": "stream",
     "text": [
      "No exact duplicated\n",
      "No possible duplicated with subset : ['code']\n",
      "Possible duplicated with subset ['product_name', 'creator', 'quantity'] :1939\n",
      "Possible duplicated with subset ['product_name', 'brands', 'quantity', 'categories', 'countries'] :138\n"
     ]
    }
   ],
   "source": [
    "size = data[data.duplicated()].shape[0]\n",
    "if size == 0:\n",
    "    print(\"No exact duplicated\")\n",
    "else:\n",
    "    print(f\"exact duplicated :{size}\")\n",
    "subset = ['code']\n",
    "size = size_subset = data.dropna(subset=subset).duplicated(subset=subset).sum()\n",
    "if size == 0:\n",
    "    print(f\"No possible duplicated with subset : {subset}\")\n",
    "else:\n",
    "    print(f\"exact duplicated with subset {subset} :{size}\")\n",
    "subset = ['product_name', 'creator', 'quantity']\n",
    "size = size_subset = data.dropna(subset=subset).duplicated(subset=subset).sum()\n",
    "if size == 0:\n",
    "    print(f\"No possible duplicated with subset : {subset}\")\n",
    "else:\n",
    "    print(f\"Possible duplicated with subset {subset} :{size}\")\n",
    "subset = ['product_name', 'brands', 'quantity', 'categories', 'countries']\n",
    "size = size_subset = data.dropna(subset=subset).duplicated(subset=subset).sum()\n",
    "if size == 0:\n",
    "    print(f\"No possible duplicated with subset : {subset}\")\n",
    "else:\n",
    "    print(f\"Possible duplicated with subset {subset} :{size}\")\n"
   ]
  },
  {
   "cell_type": "code",
   "execution_count": 8,
   "id": "8cfdaa67-70cd-449f-9db7-698f74f34141",
   "metadata": {},
   "outputs": [
    {
     "name": "stdout",
     "output_type": "stream",
     "text": [
      "63\n",
      "generic_name                                  0.835413\n",
      "quantity                                      0.673229\n",
      "packaging                                     0.753844\n",
      "packaging_tags                                0.753841\n",
      "categories                                    0.736854\n",
      "categories_tags                               0.736919\n",
      "categories_fr                                 0.736850\n",
      "origins                                       0.930823\n",
      "origins_tags                                  0.930938\n",
      "manufacturing_places                          0.886209\n",
      "manufacturing_places_tags                     0.886228\n",
      "labels                                        0.854853\n",
      "labels_tags                                   0.854588\n",
      "labels_fr                                     0.854520\n",
      "emb_codes                                     0.908639\n",
      "emb_codes_tags                                0.908649\n",
      "first_packaging_code_geo                      0.941382\n",
      "cities                                        0.999928\n",
      "cities_tags                                   0.936653\n",
      "purchase_places                               0.818585\n",
      "stores                                        0.838758\n",
      "allergens                                     0.911638\n",
      "allergens_fr                                  0.999941\n",
      "traces                                        0.924080\n",
      "traces_tags                                   0.924155\n",
      "traces_fr                                     0.924083\n",
      "no_nutriments                                 1.000000\n",
      "additives_tags                                0.517788\n",
      "additives_fr                                  0.517788\n",
      "ingredients_from_palm_oil                     1.000000\n",
      "ingredients_from_palm_oil_tags                0.984927\n",
      "ingredients_that_may_be_from_palm_oil         1.000000\n",
      "ingredients_that_may_be_from_palm_oil_tags    0.963538\n",
      "nutrition_grade_uk                            1.000000\n",
      "pnns_groups_1                                 0.714710\n",
      "pnns_groups_2                                 0.705426\n",
      "main_category                                 0.736991\n",
      "main_category_fr                              0.736991\n",
      "image_url                                     0.763583\n",
      "image_small_url                               0.763583\n",
      "dtype: float64\n"
     ]
    }
   ],
   "source": [
    "missingRate = data.iloc[:, :startNut].isnull().sum()/sizeData\n",
    "print(missingRate.shape[0])\n",
    "print(missingRate[missingRate >= 0.5])"
   ]
  },
  {
   "cell_type": "code",
   "execution_count": 7,
   "id": "b113f495-3198-4d73-b7e0-618f0162d134",
   "metadata": {},
   "outputs": [
    {
     "name": "stdout",
     "output_type": "stream",
     "text": [
      "99\n",
      "energy-from-fat_100g     0.997328\n",
      "butyric-acid_100g        1.000000\n",
      "caproic-acid_100g        1.000000\n",
      "caprylic-acid_100g       0.999997\n",
      "capric-acid_100g         0.999994\n",
      "                           ...   \n",
      "cocoa_100g               0.997045\n",
      "chlorophyl_100g          1.000000\n",
      "carbon-footprint_100g    0.999165\n",
      "glycemic-index_100g      1.000000\n",
      "water-hardness_100g      1.000000\n",
      "Length: 88, dtype: float64\n"
     ]
    }
   ],
   "source": [
    "missingRateNut = data.iloc[:, startNut:].isnull().sum()/sizeData\n",
    "print(missingRateNut.shape[0])\n",
    "print(missingRateNut[missingRateNut >= 0.5])"
   ]
  },
  {
   "cell_type": "code",
   "execution_count": 9,
   "id": "c041a2f6",
   "metadata": {},
   "outputs": [],
   "source": [
    "def prepareData(data, targetColumn):\n",
    "    if targetColumn not in data.columns:\n",
    "        raise ValueError(f\"{targetColumn} is not in dataFrame.\")\n",
    "\n",
    "    dataCleaned = data.dropna(subset=[targetColumn])\n",
    "    y = dataCleaned[targetColumn]\n",
    "    X = dataCleaned.drop(columns=[targetColumn])\n",
    "\n",
    "    columnsKeep = X.columns[X.isnull().mean() < 0.5]\n",
    "    X = X[columnsKeep]\n",
    "    \n",
    "    subsetDup = ['product_name', 'brands', 'quantity', 'categories', 'countries']\n",
    "    subsetDup = [col for col in subsetDup if col in X.columns]\n",
    "    \n",
    "    if subsetDup:\n",
    "        X = X.drop_duplicates(subset=subsetDup)\n",
    "        y = y.loc[X.index]\n",
    "    else:\n",
    "        print(\"No target for subsetDup.\")\n",
    "    \n",
    "    return X, y"
   ]
  },
  {
   "cell_type": "code",
   "execution_count": 11,
   "id": "e1815887",
   "metadata": {},
   "outputs": [
    {
     "name": "stdout",
     "output_type": "stream",
     "text": [
      "Nb raws after clean : 205268\n",
      "Nb features: 41\n",
      "\n",
      "10 first features:\n",
      "['code', 'url', 'creator', 'created_t', 'created_datetime', 'last_modified_t', 'last_modified_datetime', 'product_name', 'brands', 'brands_tags']\n",
      "\n",
      "Features nutritional:\n",
      "['energy_100g', 'fat_100g', 'saturated-fat_100g', 'trans-fat_100g', 'cholesterol_100g', 'carbohydrates_100g', 'sugars_100g', 'fiber_100g', 'proteins_100g', 'salt_100g', 'sodium_100g', 'vitamin-a_100g', 'vitamin-c_100g', 'calcium_100g', 'iron_100g', 'nutrition-score-fr_100g', 'nutrition-score-uk_100g']\n",
      "\n",
      "Distribution of the target variable:\n",
      "nutrition_grade_fr\n",
      "d    0.283152\n",
      "c    0.206593\n",
      "e    0.194653\n",
      "a    0.161491\n",
      "b    0.154111\n",
      "Name: proportion, dtype: float64\n",
      "\n",
      "Descriptive statistics for some numeric columns:\n",
      "Features needed in Nutriscoring : ['energy_100g', 'fat_100g', 'saturated-fat_100g', 'sugars_100g', 'fiber_100g', 'proteins_100g', 'salt_100g']\n",
      "        energy_100g       fat_100g  saturated-fat_100g    sugars_100g  \\\n",
      "count  2.050830e+05  188183.000000       205083.000000  205083.000000   \n",
      "mean   1.198510e+03      13.339354            4.978764      14.980542   \n",
      "std    7.251147e+03      16.155400            7.702723      21.267705   \n",
      "min    0.000000e+00       0.000000            0.000000     -17.860000   \n",
      "25%    4.600000e+02       0.880000            0.000000       1.240000   \n",
      "50%    1.197000e+03       7.140000            1.790000       5.000000   \n",
      "75%    1.715000e+03      21.430000            7.140000      23.000000   \n",
      "max    3.251373e+06     714.290000          550.000000    3520.000000   \n",
      "\n",
      "          fiber_100g  proteins_100g      salt_100g  \n",
      "count  179434.000000  205083.000000  205083.000000  \n",
      "mean        2.840111       7.774604       1.666176  \n",
      "std        13.472660       8.096365     142.492384  \n",
      "min         0.000000       0.000000       0.000000  \n",
      "25%         0.000000       1.900000       0.100000  \n",
      "50%         1.500000       5.710000       0.650240  \n",
      "75%         3.600000      10.710000       1.361440  \n",
      "max      5380.000000     430.000000   64312.800000  \n"
     ]
    }
   ],
   "source": [
    "try:\n",
    "    XClean, y = prepareData(data, 'nutrition_grade_fr')\n",
    "\n",
    "    print(\"Nb raws after clean :\", len(XClean))\n",
    "    print(\"Nb features:\", XClean.shape[1])\n",
    "    columnsX = XClean.columns.tolist()\n",
    "    print(\"\\n10 first features:\")\n",
    "    print(columnsX[:10])\n",
    "    startNut = columnsX.index(\"energy_100g\")\n",
    "    print(\"\\nFeatures nutritional:\")\n",
    "    print(columnsX[startNut : ])\n",
    "    print(\"\\nDistribution of the target variable:\")\n",
    "    print(y.value_counts(normalize=True))\n",
    "    \n",
    "    print(\"\\nDescriptive statistics for some numeric columns:\")\n",
    "    numericColumns = [\n",
    "    'energy_100g',\n",
    "    'fat_100g',\n",
    "    'saturated-fat_100g',\n",
    "    'sugars_100g',\n",
    "    'fiber_100g',\n",
    "    'proteins_100g',\n",
    "    'salt_100g'  # ou 'sodium_100g'\n",
    "    ]\n",
    "    print(f'Features needed in Nutriscoring : {numericColumns}')\n",
    "    numericColumns = [col for col in numericColumns if col in XClean.columns]\n",
    "    print(XClean[numericColumns].describe())\n",
    "\n",
    "except Exception as e:\n",
    "    print(f\"Error : {e}\")"
   ]
  }
 ],
 "metadata": {
  "kernelspec": {
   "display_name": "Python 3 (ipykernel)",
   "language": "python",
   "name": "python3"
  },
  "language_info": {
   "codemirror_mode": {
    "name": "ipython",
    "version": 3
   },
   "file_extension": ".py",
   "mimetype": "text/x-python",
   "name": "python",
   "nbconvert_exporter": "python",
   "pygments_lexer": "ipython3",
   "version": "3.12.4"
  }
 },
 "nbformat": 4,
 "nbformat_minor": 5
}
